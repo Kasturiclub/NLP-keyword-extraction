{
 "cells": [
  {
   "cell_type": "code",
   "execution_count": null,
   "metadata": {},
   "outputs": [],
   "source": [
    "\n",
    "\n"
   ]
  },
  {
   "cell_type": "code",
   "execution_count": 2,
   "metadata": {},
   "outputs": [],
   "source": [
    "#Investing in our common stock involves a high degree of risk. Please read “Risk Factors” beginning on page S-3 of this prospectus supplement, on page 5 of the accompanying prospectus and in the documents incorporated by reference into this prospectus supplement"
   ]
  },
  {
   "cell_type": "code",
   "execution_count": 3,
   "metadata": {},
   "outputs": [],
   "source": [
    "from nltk import tokenize\n",
    "from operator import itemgetter\n",
    "import math"
   ]
  },
  {
   "cell_type": "code",
   "execution_count": 4,
   "metadata": {},
   "outputs": [],
   "source": [
    "doc=('Investing in our common stock involves a high degree of risk. Please read “Risk Factors” beginning on page S-3 of this prospectus supplement, on page 5 of the accompanying prospectus and in the documents incorporated by reference into this prospectus supplement')"
   ]
  },
  {
   "cell_type": "code",
   "execution_count": 5,
   "metadata": {},
   "outputs": [
    {
     "name": "stderr",
     "output_type": "stream",
     "text": [
      "[nltk_data] Downloading package stopwords to\n",
      "[nltk_data]     C:\\Users\\Kasturi\\AppData\\Roaming\\nltk_data...\n",
      "[nltk_data]   Package stopwords is already up-to-date!\n"
     ]
    },
    {
     "data": {
      "text/plain": [
       "True"
      ]
     },
     "execution_count": 5,
     "metadata": {},
     "output_type": "execute_result"
    }
   ],
   "source": [
    "import nltk\n",
    "nltk.download('stopwords')"
   ]
  },
  {
   "cell_type": "code",
   "execution_count": 6,
   "metadata": {},
   "outputs": [],
   "source": [
    "import nltk\n",
    "from nltk.corpus import stopwords\n",
    "from nltk.tokenize import word_tokenize \n",
    "stop_words = set(stopwords.words('english'))"
   ]
  },
  {
   "cell_type": "code",
   "execution_count": 7,
   "metadata": {},
   "outputs": [
    {
     "name": "stdout",
     "output_type": "stream",
     "text": [
      "41\n"
     ]
    }
   ],
   "source": [
    "total_words = doc.split()\n",
    "total_word_length = len(total_words)\n",
    "print(total_word_length)"
   ]
  },
  {
   "cell_type": "code",
   "execution_count": 8,
   "metadata": {},
   "outputs": [
    {
     "name": "stdout",
     "output_type": "stream",
     "text": [
      "2\n"
     ]
    }
   ],
   "source": [
    "total_sentences = tokenize.sent_tokenize(doc)\n",
    "total_sent_len = len(total_sentences)\n",
    "print(total_sent_len)"
   ]
  },
  {
   "cell_type": "code",
   "execution_count": 9,
   "metadata": {},
   "outputs": [
    {
     "name": "stdout",
     "output_type": "stream",
     "text": [
      "{'Investing': 0.024390243902439025, 'common': 0.024390243902439025, 'stock': 0.024390243902439025, 'involves': 0.024390243902439025, 'high': 0.024390243902439025, 'degree': 0.024390243902439025, 'risk': 0.024390243902439025, 'Please': 0.024390243902439025, 'read': 0.024390243902439025, '“Risk': 0.024390243902439025, 'Factors”': 0.024390243902439025, 'beginning': 0.024390243902439025, 'page': 0.04878048780487805, 'S-3': 0.024390243902439025, 'prospectus': 0.07317073170731707, 'supplement,': 0.024390243902439025, '5': 0.024390243902439025, 'accompanying': 0.024390243902439025, 'documents': 0.024390243902439025, 'incorporated': 0.024390243902439025, 'reference': 0.024390243902439025, 'supplement': 0.024390243902439025}\n"
     ]
    }
   ],
   "source": [
    "tf_score = {}\n",
    "for each_word in total_words:\n",
    "    each_word = each_word.replace('.','')\n",
    "    if each_word not in stop_words:\n",
    "        if each_word in tf_score:\n",
    "            tf_score[each_word] += 1\n",
    "        else:\n",
    "            tf_score[each_word] = 1\n",
    "\n",
    "# Dividing by total_word_length for each dictionary element\n",
    "tf_score.update((x, y/int(total_word_length)) for x, y in tf_score.items())\n",
    "print(tf_score)"
   ]
  },
  {
   "cell_type": "code",
   "execution_count": 10,
   "metadata": {},
   "outputs": [],
   "source": [
    "def check_sent(word, sentences): \n",
    "    final = [all([w in x for w in word]) for x in sentences] \n",
    "    sent_len = [sentences[i] for i in range(0, len(final)) if final[i]]\n",
    "    return int(len(sent_len))"
   ]
  },
  {
   "cell_type": "code",
   "execution_count": 11,
   "metadata": {},
   "outputs": [
    {
     "name": "stdout",
     "output_type": "stream",
     "text": [
      "{'Investing': 0.6931471805599453, 'common': 0.6931471805599453, 'stock': 0.6931471805599453, 'involves': 0.6931471805599453, 'high': 0.6931471805599453, 'degree': 0.6931471805599453, 'risk': 0.6931471805599453, 'Please': 0.6931471805599453, 'read': 0.6931471805599453, '“Risk': 0.6931471805599453, 'Factors”': 0.6931471805599453, 'beginning': 0.6931471805599453, 'page': 0.6931471805599453, 'S-3': 0.6931471805599453, 'prospectus': 0.6931471805599453, 'supplement,': 0.6931471805599453, '5': 0.6931471805599453, 'accompanying': 0.6931471805599453, 'documents': 0.6931471805599453, 'incorporated': 0.6931471805599453, 'reference': 0.6931471805599453, 'supplement': 0.6931471805599453}\n"
     ]
    }
   ],
   "source": [
    "idf_score = {}\n",
    "for each_word in total_words:\n",
    "    each_word = each_word.replace('.','')\n",
    "    if each_word not in stop_words:\n",
    "        if each_word in idf_score:\n",
    "            idf_score[each_word] = check_sent(each_word, total_sentences)\n",
    "        else:\n",
    "            idf_score[each_word] = 1\n",
    "\n",
    "# Performing a log and divide\n",
    "idf_score.update((x, math.log(int(total_sent_len)/y)) for x, y in idf_score.items())\n",
    "\n",
    "print(idf_score)"
   ]
  },
  {
   "cell_type": "code",
   "execution_count": 12,
   "metadata": {},
   "outputs": [
    {
     "name": "stdout",
     "output_type": "stream",
     "text": [
      "{'Investing': 0.016906028794145007, 'common': 0.016906028794145007, 'stock': 0.016906028794145007, 'involves': 0.016906028794145007, 'high': 0.016906028794145007, 'degree': 0.016906028794145007, 'risk': 0.016906028794145007, 'Please': 0.016906028794145007, 'read': 0.016906028794145007, '“Risk': 0.016906028794145007, 'Factors”': 0.016906028794145007, 'beginning': 0.016906028794145007, 'page': 0.03381205758829001, 'S-3': 0.016906028794145007, 'prospectus': 0.05071808638243502, 'supplement,': 0.016906028794145007, '5': 0.016906028794145007, 'accompanying': 0.016906028794145007, 'documents': 0.016906028794145007, 'incorporated': 0.016906028794145007, 'reference': 0.016906028794145007, 'supplement': 0.016906028794145007}\n"
     ]
    }
   ],
   "source": [
    "tf_idf_score = {key: tf_score[key] * idf_score.get(key, 0) for key in tf_score.keys()}\n",
    "print(tf_idf_score)"
   ]
  },
  {
   "cell_type": "code",
   "execution_count": 13,
   "metadata": {},
   "outputs": [],
   "source": [
    "def get_top_n(dict_elem, n):\n",
    "    result = dict(sorted(dict_elem.items(), key = itemgetter(1), reverse = True)[:n]) \n",
    "    return result"
   ]
  },
  {
   "cell_type": "code",
   "execution_count": 14,
   "metadata": {},
   "outputs": [
    {
     "name": "stdout",
     "output_type": "stream",
     "text": [
      "{'prospectus': 0.05071808638243502, 'page': 0.03381205758829001, 'Investing': 0.016906028794145007, 'common': 0.016906028794145007, 'stock': 0.016906028794145007}\n"
     ]
    }
   ],
   "source": [
    "print(get_top_n(tf_idf_score, 5))"
   ]
  },
  {
   "cell_type": "code",
   "execution_count": null,
   "metadata": {},
   "outputs": [],
   "source": []
  },
  {
   "cell_type": "code",
   "execution_count": null,
   "metadata": {},
   "outputs": [],
   "source": []
  }
 ],
 "metadata": {
  "kernelspec": {
   "display_name": "Python 3",
   "language": "python",
   "name": "python3"
  }
 },
 "nbformat": 4,
 "nbformat_minor": 4
}
